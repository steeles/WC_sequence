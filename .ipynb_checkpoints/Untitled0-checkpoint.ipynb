{
 "metadata": {
  "name": "",
  "signature": "sha256:8054806d2cc1a46369865c4910e4a0afeb2d18fb9c320c4e624ed89e88c8da09"
 },
 "nbformat": 3,
 "nbformat_minor": 0,
 "worksheets": []
}